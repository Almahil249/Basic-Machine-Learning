{
 "cells": [
  {
   "cell_type": "markdown",
   "metadata": {},
   "source": [
    "# include libs"
   ]
  },
  {
   "cell_type": "code",
   "execution_count": null,
   "metadata": {},
   "outputs": [],
   "source": [
    "import numpy as np\n",
    "import matplotlib.pyplot as plt\n",
    "from sklearn.datasets import load_iris\n",
    "from sklearn.naive_bayes import GaussianNB"
   ]
  },
  {
   "cell_type": "markdown",
   "metadata": {},
   "source": [
    "# Load iris Dataset and plot its data points"
   ]
  },
  {
   "cell_type": "code",
   "execution_count": null,
   "metadata": {},
   "outputs": [],
   "source": [
    "iris = load_iris()\n",
    "data = iris.data\n",
    "target = iris.target\n"
   ]
  },
  {
   "cell_type": "code",
   "execution_count": null,
   "metadata": {},
   "outputs": [],
   "source": [
    "#plot data  <Axes: xlabel='sepal_length', ylabel='sepal_width'>\n",
    "plt.scatter(data[:,0], data[:,1], c=target)\n",
    "plt.xlabel('sepal_length')\n",
    "plt.ylabel('sepal_width')\n",
    "plt.show()\n",
    "##plot data  <Axes: label='petal_length', label='petal_width'>\n",
    "plt.scatter(iris.data[:,2], iris.data[:,3], c=target)\n",
    "plt.xlabel('petal_length')\n",
    "plt.ylabel('petal_width')\n",
    "plt.show()\n",
    "\n"
   ]
  },
  {
   "cell_type": "markdown",
   "metadata": {},
   "source": [
    "# train_test_split function implementation with 30% testRatio"
   ]
  },
  {
   "cell_type": "code",
   "execution_count": null,
   "metadata": {},
   "outputs": [],
   "source": [
    "def train_test_split(data,labels,testRatio=0.3):\n",
    "    n=len(data)\n",
    "    testSize=int(n*testRatio)\n",
    "    testIndices=np.random.choice(n,testSize,replace=False)\n",
    "    trainIndices=[i for i in range(n) if i not in testIndices]\n",
    "    return data[trainIndices],data[testIndices],labels[trainIndices],labels[testIndices]\n",
    "\n",
    "\n",
    "X_train,X_test,y_train,y_test =train_test_split(data,target)\n"
   ]
  },
  {
   "cell_type": "markdown",
   "metadata": {},
   "source": [
    "# plotting test and train data"
   ]
  },
  {
   "cell_type": "code",
   "execution_count": null,
   "metadata": {},
   "outputs": [],
   "source": [
    "\n",
    "#plot 2 graphs of the  X_train and X_test to see the distribution graph 1: sepal_length vs sepal_width graph 2: petal_length vs petal_width\n",
    "\n",
    "plt.scatter(X_train[:,0],X_train[:,1],label='Train Data')\n",
    "plt.scatter(X_test[:,0],X_test[:,1],label='Test Data')\n",
    "plt.xlabel('sepal_length')\n",
    "plt.ylabel('sepal_width')\n",
    "plt.title('sepal length width - Train / Test data distribution')\n",
    "plt.legend()\n",
    "plt.show()\n",
    "\n",
    "plt.scatter(X_train[:,2],X_train[:,3],label='Train Data')\n",
    "plt.scatter(X_test[:,2],X_test[:,3],label='Test Data')\n",
    "plt.xlabel('petal_length')\n",
    "plt.ylabel('petal_width')\n",
    "plt.title('petal length width - Train / Test data distribution')\n",
    "plt.legend()\n",
    "plt.show()\n",
    "\n",
    "\n",
    "#plotting the data y_train and y_test to see the distribution\n",
    "plt.scatter(y_train,X_train[:,1],label='Train Data')\n",
    "plt.scatter(y_test,X_test[:,1],label='Test Data')\n",
    "plt.title('Labels - Train / Test data distribution')\n",
    "plt.xlabel('Class')\n",
    "plt.legend()\n",
    "plt.show()"
   ]
  },
  {
   "cell_type": "markdown",
   "metadata": {},
   "source": [
    "# GaussianNB "
   ]
  },
  {
   "cell_type": "code",
   "execution_count": null,
   "metadata": {},
   "outputs": [],
   "source": [
    "clf = GaussianNB()\n",
    "clf.fit(X_train[:, :2], y_train) # \"sepal length and sepal width\""
   ]
  },
  {
   "cell_type": "code",
   "execution_count": null,
   "metadata": {},
   "outputs": [],
   "source": [
    "# Define mesh grid for plotting decision boundariesS\n",
    "h = 0.02  # step size in the mesh\n",
    "mesh_x1, mesh_x2 = np.meshgrid(np.arange(min(X_train[:, 0]) - h, max(X_train[:, 0]) + h, h),\n",
    "                               np.arange(min(X_train[:, 1]) - h, max(X_train[:, 1]) + h, h))\n",
    "\n",
    "# Create a new array of points\n",
    "mesh_points = np.c_[mesh_x1.ravel(), mesh_x2.ravel()]\n",
    "\n",
    "# Predict class labels for mesh points\n",
    "y_pred = clf.predict(mesh_points)\n",
    "\n",
    "# Plot the decision boundaries\n",
    "light_cmap = plt.colormaps['Reds']\n",
    "plt.contourf(mesh_x1, mesh_x2, y_pred.reshape(mesh_x1.shape), cmap=light_cmap, alpha=0.4)\n",
    "\n",
    "# Plot data points\n",
    "plt.scatter(X_train[:, 0], X_train[:, 1], c=y_train, cmap=light_cmap, edgecolors='k', s=20, label='Training points')\n",
    "\n",
    "# Plot iris flower species labels\n",
    "plt.xlabel(iris.feature_names[0])\n",
    "plt.ylabel(iris.feature_names[1])\n",
    "plt.title('Naive Bayes Decision Boundaries - Iris Dataset')\n",
    "plt.legend()\n",
    "plt.show()\n",
    "\n",
    "#plotting the decision boundaries for the petal length and petal width\n",
    "clf = GaussianNB()\n",
    "clf.fit(X_train[:, 2:], y_train) # \"petal length and petal width\"\n",
    "\n",
    "# Define 2 mesh grid for plotting decision boundaries\n",
    "h = 0.02  # step size in the mesh\n",
    "mesh_x1, mesh_x2 = np.meshgrid(np.arange(min(X_train[:, 2]) - h, max(X_train[:, 2]) + h, h),\n",
    "                               np.arange(min(X_train[:, 3]) - h, max(X_train[:, 3]) + h, h))\n",
    "\n",
    "# Create a new array of points\n",
    "mesh_points = np.c_[mesh_x1.ravel(), mesh_x2.ravel()]\n",
    "\n",
    "# Predict class labels for mesh points\n",
    "y_pred = clf.predict(mesh_points)\n",
    "\n",
    "# Plot the decision boundaries\n",
    "light_cmap = plt.colormaps['Reds']\n",
    "plt.contourf(mesh_x1, mesh_x2, y_pred.reshape(mesh_x1.shape), cmap=light_cmap, alpha=0.4)\n",
    "\n",
    "# Plot data points\n",
    "plt.scatter(X_train[:, 2], X_train[:, 3], c=y_train, cmap=light_cmap, edgecolors='k', s=20, label='Training points')\n",
    "\n",
    "# Plot iris flower species labels\n",
    "plt.xlabel(iris.feature_names[2])\n",
    "plt.ylabel(iris.feature_names[3])\n",
    "plt.title('Naive Bayes Decision Boundaries - Iris Dataset')\n",
    "plt.legend()\n",
    "plt.show()\n"
   ]
  },
  {
   "cell_type": "markdown",
   "metadata": {},
   "source": [
    "# calculate_accuracy function implementation"
   ]
  },
  {
   "cell_type": "code",
   "execution_count": null,
   "metadata": {},
   "outputs": [],
   "source": [
    "def calculate_accuracy(predicted_y,y):\n",
    "    return sum(predicted_y==y)/len(y)\n",
    "\n",
    "clf.fit(X_train , y_train)\n",
    "\n",
    "print(\"Model Accuracy= \", calculate_accuracy(clf.predict(X_test),y_test)*100,\"%\")"
   ]
  },
  {
   "cell_type": "code",
   "execution_count": null,
   "metadata": {},
   "outputs": [],
   "source": []
  }
 ],
 "metadata": {
  "kernelspec": {
   "display_name": "Python 3 (ipykernel)",
   "language": "python",
   "name": "python3"
  },
  "language_info": {
   "codemirror_mode": {
    "name": "ipython",
    "version": 3
   },
   "file_extension": ".py",
   "mimetype": "text/x-python",
   "name": "python",
   "nbconvert_exporter": "python",
   "pygments_lexer": "ipython3",
   "version": "3.11.5"
  }
 },
 "nbformat": 4,
 "nbformat_minor": 2
}
