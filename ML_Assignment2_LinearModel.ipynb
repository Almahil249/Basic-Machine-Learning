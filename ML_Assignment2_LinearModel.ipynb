{
 "cells": [
  {
   "cell_type": "markdown",
   "metadata": {},
   "source": [
    "# include libs"
   ]
  },
  {
   "cell_type": "code",
   "execution_count": null,
   "metadata": {},
   "outputs": [],
   "source": [
    "import numpy as np\n"
   ]
  },
  {
   "cell_type": "markdown",
   "metadata": {},
   "source": [
    "# Generating random X values, calculatting Y values , Initialize weights\n",
    "\n"
   ]
  },
  {
   "cell_type": "code",
   "execution_count": null,
   "metadata": {},
   "outputs": [],
   "source": [
    "X = np.random.rand(1000, 3)\n",
    "Y = 5*X[:,0] + 3*X[:,1] + 1.5*X[:,2] + 6\n",
    "weights = [5 , 3 , 1.5 , 6]\n",
    "\n"
   ]
  },
  {
   "cell_type": "markdown",
   "metadata": {},
   "source": [
    "# train_test_split function implementation with 30% testRatio as default"
   ]
  },
  {
   "cell_type": "code",
   "execution_count": null,
   "metadata": {},
   "outputs": [],
   "source": [
    "def train_test_split(data,labels,testRatio=0.3):\n",
    "    n=len(data)\n",
    "    testSize=int(n*testRatio)\n",
    "    testIndices=np.random.choice(n,testSize,replace=False)\n",
    "    trainIndices=[i for i in range(n) if i not in testIndices]\n",
    "    return data[trainIndices],data[testIndices],labels[trainIndices],labels[testIndices]\n",
    "\n",
    "\n",
    "X_train, X_test, Y_train, Y_test = train_test_split(X, Y)\n"
   ]
  },
  {
   "cell_type": "markdown",
   "metadata": {},
   "source": [
    "# costFn function implementation"
   ]
  },
  {
   "cell_type": "code",
   "execution_count": null,
   "metadata": {},
   "outputs": [],
   "source": [
    "def costFn(weights, X, Y):\n",
    "    X_b = np.c_[np.ones((X.shape[0], 1)), X]\n",
    "    m = len(X_b)\n",
    "    loss = 1/m * sum((X_b.dot(weights) - Y) ** 2)\n",
    "    return loss"
   ]
  },
  {
   "cell_type": "markdown",
   "metadata": {},
   "source": [
    "# gradientDescent function implementation"
   ]
  },
  {
   "cell_type": "code",
   "execution_count": null,
   "metadata": {},
   "outputs": [],
   "source": [
    "\n",
    "def gradientDescent(X, Y, weights, LR, iterations):\n",
    "    # Add bias term to X\n",
    "    X_b = np.c_[np.ones((X.shape[0], 1)), X]\n",
    "    \n",
    "    # Number of samples\n",
    "    m = X_b.shape[0]\n",
    "    \n",
    "    # Initializing theta and cost_history\n",
    "    theta = weights\n",
    "    cost_history = []\n",
    "    theta_history = [theta]\n",
    "    \n",
    "    for iteration in range(iterations):\n",
    "        #gradients = X_b.T.dot(X_b.dot(theta) - Y)\n",
    "        gradients = 1/m * X_b.T.dot(X_b.dot(theta) - Y)\n",
    "        theta = theta - LR * gradients\n",
    "        theta_history.append(theta)\n",
    "        \n",
    "        # Calculate and record the cost\n",
    "        cost = np.mean((X_b.dot(theta) - Y) ** 2)\n",
    "        cost_history.append(cost)\n",
    "        \n",
    "        # Print the updated weights\n",
    "        if iteration % 1 == 0:\n",
    "            print(f\"Iteration {iteration}: Updated weights - {theta} , Cost: {cost}\")\n",
    "    \n",
    "    return theta, cost_history, theta_history\n"
   ]
  },
  {
   "cell_type": "markdown",
   "metadata": {},
   "source": [
    "# Results:"
   ]
  },
  {
   "cell_type": "code",
   "execution_count": null,
   "metadata": {},
   "outputs": [],
   "source": [
    "\n",
    "# Run gradient descent\n",
    "final_weights, cost_history, theta_history = gradientDescent(X_train, Y_train, weights, LR=0.01, iterations=100)\n",
    "\n",
    "# Calculate loss\n",
    "print('Loss Before gradient descent : ',costFn(weights, X_test, Y_test))\n",
    "\n",
    "print('Loss After gradient descent : ',costFn(final_weights, X_test, Y_test))\n",
    "\n",
    "# Print the final weights\n",
    "print(f\"Final Weights: {final_weights}\")\n"
   ]
  }
 ],
 "metadata": {
  "kernelspec": {
   "display_name": "Python 3 (ipykernel)",
   "language": "python",
   "name": "python3"
  },
  "language_info": {
   "codemirror_mode": {
    "name": "ipython",
    "version": 3
   },
   "file_extension": ".py",
   "mimetype": "text/x-python",
   "name": "python",
   "nbconvert_exporter": "python",
   "pygments_lexer": "ipython3",
   "version": "3.12.1"
  }
 },
 "nbformat": 4,
 "nbformat_minor": 2
}
