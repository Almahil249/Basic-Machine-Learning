{
 "cells": [
  {
   "cell_type": "code",
   "execution_count": null,
   "metadata": {},
   "outputs": [],
   "source": [
    "import numpy as np\n",
    "import pandas as pd\n",
    "from sklearn.preprocessing import LabelEncoder, StandardScaler \n",
    "from sklearn.svm import SVR\n",
    "from sklearn.linear_model import LinearRegression\n",
    "from sklearn.ensemble import RandomForestRegressor\n",
    "from sklearn.metrics import mean_squared_error, r2_score\n",
    "from sklearn.neighbors import KNeighborsRegressor\n"
   ]
  },
  {
   "cell_type": "code",
   "execution_count": null,
   "metadata": {},
   "outputs": [],
   "source": [
    "# Importing the dataset\n",
    "dataset = pd.read_csv('insurance.csv')\n",
    "# convert data set to a pandas dataframe\n",
    "df = pd.DataFrame(dataset)"
   ]
  },
  {
   "cell_type": "code",
   "execution_count": null,
   "metadata": {},
   "outputs": [],
   "source": [
    "# Encoding categorical data values\n",
    "le = LabelEncoder()\n",
    "le.fit(df.sex.drop_duplicates())\n",
    "df.sex = le.transform(df.sex)\n",
    "\n",
    "le.fit(df.smoker.drop_duplicates())\n",
    "df.smoker = le.transform(df.smoker)\n",
    "\n",
    "le.fit(df.region.drop_duplicates())\n",
    "df.region = le.transform(df.region)\n"
   ]
  },
  {
   "cell_type": "code",
   "execution_count": null,
   "metadata": {},
   "outputs": [],
   "source": [
    "# Splitting the dataset into X and y (features and target variable)\n",
    "X = df.iloc[:, :-1].values\n",
    "y = df.iloc[:, -1].values\n",
    "# apply feature scaling to reduce the range of the data (excluding the extreme values)\n",
    "sc_X = StandardScaler()\n",
    "X = sc_X.fit_transform(X)\n",
    "\n"
   ]
  },
  {
   "cell_type": "code",
   "execution_count": null,
   "metadata": {},
   "outputs": [],
   "source": [
    "# train_test_split function\n",
    "def train_test_split(data,labels,testRatio=0.3):\n",
    "    n=len(data)\n",
    "    print(\"train_test_split function called with data size: \",n,\" and testRatio: \",testRatio)\n",
    "    testSize=int(n*testRatio) \n",
    "    print(\"testSize: \",testSize)\n",
    "    print(\"trainSize: \",n-testSize)\n",
    "    testIndices=np.random.choice(n,testSize,replace=False)\n",
    "    trainIndices=[i for i in range(n) if i not in testIndices]\n",
    "    return data[trainIndices],data[testIndices],labels[trainIndices],labels[testIndices]\n",
    "\n"
   ]
  },
  {
   "cell_type": "code",
   "execution_count": null,
   "metadata": {},
   "outputs": [],
   "source": [
    "# Splitting the dataset into the Training set and Test set \n",
    "train_Size = 1000 #int(input(\"Enter the train size: \"))\n",
    "testRatio = 1- (train_Size / len(X))\n",
    "\n",
    "\n",
    "X_train,X_test,y_train,y_test = train_test_split(X,y, testRatio)\n",
    "\n",
    "# target values scaling (for SVR model)\n",
    "y_reshaped = y_train.reshape(len(y_train),1)\n",
    "sc_y = StandardScaler()\n",
    "y_new = sc_y.fit_transform(y_reshaped)"
   ]
  },
  {
   "cell_type": "code",
   "execution_count": null,
   "metadata": {},
   "outputs": [],
   "source": [
    "# Model 1: Linear Regression\n",
    "LinearRegressor = LinearRegression()\n",
    "LinearRegressor.fit(X_train, y_train)"
   ]
  },
  {
   "cell_type": "code",
   "execution_count": null,
   "metadata": {},
   "outputs": [],
   "source": [
    "\n",
    "# Predicting the Test set results\n",
    "y_pred_LR = LinearRegressor.predict(X_test)\n",
    "\n",
    "# calculate the mean squared error  \n",
    "mseRegression = mean_squared_error(y_test, y_pred_LR)\n",
    "r2_scoreRegression = r2_score(y_test, y_pred_LR)\n"
   ]
  },
  {
   "cell_type": "code",
   "execution_count": null,
   "metadata": {},
   "outputs": [],
   "source": [
    "# Model 2: SVR (linear kernel)\n",
    "SVR_linearRegressor = SVR(kernel='linear')\n",
    "SVR_linearRegressor.fit(X_train, y_new.ravel())\n"
   ]
  },
  {
   "cell_type": "code",
   "execution_count": null,
   "metadata": {},
   "outputs": [],
   "source": [
    "\n",
    "#y_pred = SVR_linearRegressor.predict(X_test)\n",
    "y_pred_SVR = sc_y.inverse_transform(SVR_linearRegressor.predict(X_test).reshape(-1,1))\n",
    "\n",
    "# calculate the mean squared error\n",
    "r2_scoreSVM = r2_score(y_test, y_pred_SVR)\n",
    "mseSVM = mean_squared_error(y_test, y_pred_SVR)"
   ]
  },
  {
   "cell_type": "code",
   "execution_count": null,
   "metadata": {},
   "outputs": [],
   "source": [
    "# Model 3: SVR (rbf kernel)\n",
    "SVR_RBF_Regressor = SVR(kernel='rbf')\n",
    "SVR_RBF_Regressor.fit(X_train, y_new.ravel())\n"
   ]
  },
  {
   "cell_type": "code",
   "execution_count": null,
   "metadata": {},
   "outputs": [],
   "source": [
    "\n",
    "#y_pred = SVR_linearRegressor.predict(X_test)\n",
    "y_pred_SVR_RBF = sc_y.inverse_transform(SVR_RBF_Regressor.predict(X_test).reshape(-1,1))\n",
    "\n",
    "# calculate the mean squared error\n",
    "r2_scoreSVM_RBF = r2_score(y_test, y_pred_SVR_RBF)\n",
    "mseSVM_RBF = mean_squared_error(y_test, y_pred_SVR_RBF)"
   ]
  },
  {
   "cell_type": "code",
   "execution_count": null,
   "metadata": {},
   "outputs": [],
   "source": [
    "# Model 4: Random Forest Regressor\n",
    "forest_regressor = RandomForestRegressor(n_estimators = 10, random_state = 0)\n",
    "forest_regressor.fit(X_train, y_train)"
   ]
  },
  {
   "cell_type": "code",
   "execution_count": null,
   "metadata": {},
   "outputs": [],
   "source": [
    "y_pred_forest = forest_regressor.predict(X_test)\n",
    "r2_scoreForest = r2_score(y_test, y_pred_forest)\n",
    "mseForest = mean_squared_error(y_test, y_pred_forest)"
   ]
  },
  {
   "cell_type": "code",
   "execution_count": null,
   "metadata": {},
   "outputs": [],
   "source": [
    "# Model 5: KNN Regressor\n",
    "knn_regressor = KNeighborsRegressor(n_neighbors = 5)\n",
    "knn_regressor.fit(X_train, y_train)"
   ]
  },
  {
   "cell_type": "code",
   "execution_count": null,
   "metadata": {},
   "outputs": [],
   "source": [
    "y_pred_knn = knn_regressor.predict(X_test)\n",
    "r2_scoreKNN = r2_score(y_test, y_pred_knn)\n",
    "mseKNN = mean_squared_error(y_test, y_pred_knn)"
   ]
  },
  {
   "cell_type": "code",
   "execution_count": null,
   "metadata": {},
   "outputs": [],
   "source": [
    "# print the results\n",
    "print(\"Linear Regression: Mean Squared Error: \",mseRegression)\n",
    "print(\"SVR_linear Mean Squared Error: \",mseSVM)\n",
    "print(\"SVR_RBF Mean Squared Error: \",mseSVM_RBF)\n",
    "print(\"Random Forest: Mean Squared Error: \",mseForest)\n",
    "print(\"KNN: Mean Squared Error: \",mseKNN)\n",
    "\n",
    "print(\"\\n###########################################\\n\")\n",
    "\n",
    "\n",
    "print(\"Linear Regression: R2 Score: \",r2_scoreRegression)\n",
    "print(\"SVR_linear R2 Score: \",r2_scoreSVM)\n",
    "print(\"SVR_RBF R2 Score: \",r2_scoreSVM_RBF)\n",
    "print(\"Random Forest: R2 Score: \",r2_scoreForest)\n",
    "print(\"KNN: R2 Score: \",r2_scoreKNN)\n"
   ]
  },
  {
   "cell_type": "code",
   "execution_count": null,
   "metadata": {},
   "outputs": [],
   "source": [
    "# print the most accurate model\n",
    "models = {\"Linear Regression\": mseRegression, \"SVR Linear\": mseSVM, \"SVR RBF\": mseSVM_RBF, \"Random Forest\": mseForest, \"KNN\": mseKNN}\n",
    "bestModel = min(models, key=models.get)\n",
    "print(\"\\n###########################################\\n\")\n",
    "print(\"The best model is: \", bestModel)\n",
    "print(\"\\n###########################################\\n\")\n",
    "\n"
   ]
  }
 ],
 "metadata": {
  "kernelspec": {
   "display_name": "Python 3",
   "language": "python",
   "name": "python3"
  },
  "language_info": {
   "codemirror_mode": {
    "name": "ipython",
    "version": 3
   },
   "file_extension": ".py",
   "mimetype": "text/x-python",
   "name": "python",
   "nbconvert_exporter": "python",
   "pygments_lexer": "ipython3",
   "version": "3.12.1"
  }
 },
 "nbformat": 4,
 "nbformat_minor": 2
}
